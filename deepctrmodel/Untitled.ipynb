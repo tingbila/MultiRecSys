{
 "cells": [
  {
   "cell_type": "code",
   "execution_count": 12,
   "id": "4c77705d",
   "metadata": {},
   "outputs": [],
   "source": [
    "import numpy as np\n",
    "\n",
    "from deepctr.models import DIN\n",
    "from deepctr.feature_column import SparseFeat, VarLenSparseFeat, DenseFeat, get_feature_names"
   ]
  },
  {
   "cell_type": "code",
   "execution_count": 13,
   "id": "3ba2dbe4",
   "metadata": {},
   "outputs": [],
   "source": [
    "feature_columns = [SparseFeat('user', 3, embedding_dim=10), SparseFeat(\n",
    "        'gender', 2, embedding_dim=4), SparseFeat('item_id', 3 + 1, embedding_dim=8),\n",
    "                       SparseFeat('cate_id', 2 + 1, embedding_dim=4), DenseFeat('pay_score', 1)]"
   ]
  },
  {
   "cell_type": "code",
   "execution_count": 14,
   "id": "18b71c82",
   "metadata": {},
   "outputs": [
    {
     "data": {
      "text/plain": [
       "[SparseFeat(name='user', vocabulary_size=3, embedding_dim=10, use_hash=False, vocabulary_path=None, dtype='int32', embeddings_initializer=<tensorflow.python.keras.initializers.initializers_v1.RandomNormal object at 0x00000148FCAD40A0>, embedding_name='user', group_name='default_group', trainable=True),\n",
       " SparseFeat(name='gender', vocabulary_size=2, embedding_dim=4, use_hash=False, vocabulary_path=None, dtype='int32', embeddings_initializer=<tensorflow.python.keras.initializers.initializers_v1.RandomNormal object at 0x00000148FCAD40D0>, embedding_name='gender', group_name='default_group', trainable=True),\n",
       " SparseFeat(name='item_id', vocabulary_size=4, embedding_dim=8, use_hash=False, vocabulary_path=None, dtype='int32', embeddings_initializer=<tensorflow.python.keras.initializers.initializers_v1.RandomNormal object at 0x00000148FCAD4130>, embedding_name='item_id', group_name='default_group', trainable=True),\n",
       " SparseFeat(name='cate_id', vocabulary_size=3, embedding_dim=4, use_hash=False, vocabulary_path=None, dtype='int32', embeddings_initializer=<tensorflow.python.keras.initializers.initializers_v1.RandomNormal object at 0x00000148CB3D23D0>, embedding_name='cate_id', group_name='default_group', trainable=True),\n",
       " DenseFeat(name='pay_score', dimension=1, dtype='float32', transform_fn=None)]"
      ]
     },
     "execution_count": 14,
     "metadata": {},
     "output_type": "execute_result"
    }
   ],
   "source": [
    "feature_columns"
   ]
  },
  {
   "cell_type": "code",
   "execution_count": 15,
   "id": "ec905846",
   "metadata": {},
   "outputs": [],
   "source": [
    "feature_columns += [\n",
    "    VarLenSparseFeat(SparseFeat('hist_item_id', vocabulary_size=3 + 1, embedding_dim=8, embedding_name='item_id'),\n",
    "                     maxlen=4, length_name=\"seq_length\"),\n",
    "    VarLenSparseFeat(SparseFeat('hist_cate_id', 2 + 1, embedding_dim=4, embedding_name='cate_id'), maxlen=4,\n",
    "                     length_name=\"seq_length\")]"
   ]
  },
  {
   "cell_type": "code",
   "execution_count": 16,
   "id": "8d9590ea",
   "metadata": {},
   "outputs": [
    {
     "data": {
      "text/plain": [
       "[SparseFeat(name='user', vocabulary_size=3, embedding_dim=10, use_hash=False, vocabulary_path=None, dtype='int32', embeddings_initializer=<tensorflow.python.keras.initializers.initializers_v1.RandomNormal object at 0x00000148FCAD40A0>, embedding_name='user', group_name='default_group', trainable=True),\n",
       " SparseFeat(name='gender', vocabulary_size=2, embedding_dim=4, use_hash=False, vocabulary_path=None, dtype='int32', embeddings_initializer=<tensorflow.python.keras.initializers.initializers_v1.RandomNormal object at 0x00000148FCAD40D0>, embedding_name='gender', group_name='default_group', trainable=True),\n",
       " SparseFeat(name='item_id', vocabulary_size=4, embedding_dim=8, use_hash=False, vocabulary_path=None, dtype='int32', embeddings_initializer=<tensorflow.python.keras.initializers.initializers_v1.RandomNormal object at 0x00000148FCAD4130>, embedding_name='item_id', group_name='default_group', trainable=True),\n",
       " SparseFeat(name='cate_id', vocabulary_size=3, embedding_dim=4, use_hash=False, vocabulary_path=None, dtype='int32', embeddings_initializer=<tensorflow.python.keras.initializers.initializers_v1.RandomNormal object at 0x00000148CB3D23D0>, embedding_name='cate_id', group_name='default_group', trainable=True),\n",
       " DenseFeat(name='pay_score', dimension=1, dtype='float32', transform_fn=None),\n",
       " VarLenSparseFeat(sparsefeat=SparseFeat(name='hist_item_id', vocabulary_size=4, embedding_dim=8, use_hash=False, vocabulary_path=None, dtype='int32', embeddings_initializer=<tensorflow.python.keras.initializers.initializers_v1.RandomNormal object at 0x00000148FCAD4430>, embedding_name='item_id', group_name='default_group', trainable=True), maxlen=4, combiner='mean', length_name='seq_length', weight_name=None, weight_norm=True),\n",
       " VarLenSparseFeat(sparsefeat=SparseFeat(name='hist_cate_id', vocabulary_size=3, embedding_dim=4, use_hash=False, vocabulary_path=None, dtype='int32', embeddings_initializer=<tensorflow.python.keras.initializers.initializers_v1.RandomNormal object at 0x00000148FCAF6040>, embedding_name='cate_id', group_name='default_group', trainable=True), maxlen=4, combiner='mean', length_name='seq_length', weight_name=None, weight_norm=True)]"
      ]
     },
     "execution_count": 16,
     "metadata": {},
     "output_type": "execute_result"
    }
   ],
   "source": [
    "feature_columns"
   ]
  },
  {
   "cell_type": "code",
   "execution_count": 17,
   "id": "0308370d",
   "metadata": {},
   "outputs": [],
   "source": [
    "# Notice: History behavior sequence feature name must start with \"hist_\".\n",
    "behavior_feature_list = [\"item_id\", \"cate_id\"]\n",
    "uid = np.array([0, 1, 2])\n",
    "ugender = np.array([0, 1, 0])\n",
    "iid = np.array([1, 2, 3])  # 0 is mask value\n",
    "cate_id = np.array([1, 2, 2])  # 0 is mask value\n",
    "pay_score = np.array([0.1, 0.2, 0.3])\n",
    "\n",
    "hist_iid = np.array([[1, 2, 3, 0], [3, 2, 1, 0], [1, 2, 0, 0]])\n",
    "hist_cate_id = np.array([[1, 2, 2, 0], [2, 2, 1, 0], [1, 2, 0, 0]])\n",
    "seq_length = np.array([3, 3, 2])  # the actual length of the behavior sequence"
   ]
  },
  {
   "cell_type": "code",
   "execution_count": 27,
   "id": "aa52a3f2",
   "metadata": {},
   "outputs": [
    {
     "data": {
      "text/plain": [
       "['item_id', 'cate_id']"
      ]
     },
     "execution_count": 27,
     "metadata": {},
     "output_type": "execute_result"
    }
   ],
   "source": [
    "behavior_feature_list"
   ]
  },
  {
   "cell_type": "code",
   "execution_count": 28,
   "id": "b484350b",
   "metadata": {},
   "outputs": [
    {
     "data": {
      "text/plain": [
       "array([[1, 2, 2, 0],\n",
       "       [2, 2, 1, 0],\n",
       "       [1, 2, 0, 0]])"
      ]
     },
     "execution_count": 28,
     "metadata": {},
     "output_type": "execute_result"
    }
   ],
   "source": [
    "hist_cate_id"
   ]
  },
  {
   "cell_type": "code",
   "execution_count": 29,
   "id": "134031bd",
   "metadata": {},
   "outputs": [
    {
     "data": {
      "text/plain": [
       "array([3, 3, 2])"
      ]
     },
     "execution_count": 29,
     "metadata": {},
     "output_type": "execute_result"
    }
   ],
   "source": [
    "seq_length"
   ]
  },
  {
   "cell_type": "code",
   "execution_count": 30,
   "id": "3ce03d53",
   "metadata": {},
   "outputs": [],
   "source": [
    "feature_dict = {'user': uid, 'gender': ugender, 'item_id': iid, 'cate_id': cate_id,\n",
    "                'hist_item_id': hist_iid, 'hist_cate_id': hist_cate_id,\n",
    "                'pay_score': pay_score, 'seq_length': seq_length}"
   ]
  },
  {
   "cell_type": "code",
   "execution_count": 32,
   "id": "1b7c89a8",
   "metadata": {},
   "outputs": [
    {
     "data": {
      "text/plain": [
       "{'user': array([0, 1, 2]),\n",
       " 'gender': array([0, 1, 0]),\n",
       " 'item_id': array([1, 2, 3]),\n",
       " 'cate_id': array([1, 2, 2]),\n",
       " 'hist_item_id': array([[1, 2, 3, 0],\n",
       "        [3, 2, 1, 0],\n",
       "        [1, 2, 0, 0]]),\n",
       " 'hist_cate_id': array([[1, 2, 2, 0],\n",
       "        [2, 2, 1, 0],\n",
       "        [1, 2, 0, 0]]),\n",
       " 'pay_score': array([0.1, 0.2, 0.3]),\n",
       " 'seq_length': array([3, 3, 2])}"
      ]
     },
     "execution_count": 32,
     "metadata": {},
     "output_type": "execute_result"
    }
   ],
   "source": [
    "feature_dict"
   ]
  },
  {
   "cell_type": "code",
   "execution_count": 35,
   "id": "6d3a8c4a",
   "metadata": {},
   "outputs": [
    {
     "data": {
      "text/plain": [
       "{'user': array([0, 1, 2]),\n",
       " 'gender': array([0, 1, 0]),\n",
       " 'item_id': array([1, 2, 3]),\n",
       " 'cate_id': array([1, 2, 2]),\n",
       " 'pay_score': array([0.1, 0.2, 0.3]),\n",
       " 'hist_item_id': array([[1, 2, 3, 0],\n",
       "        [3, 2, 1, 0],\n",
       "        [1, 2, 0, 0]]),\n",
       " 'seq_length': array([3, 3, 2]),\n",
       " 'hist_cate_id': array([[1, 2, 2, 0],\n",
       "        [2, 2, 1, 0],\n",
       "        [1, 2, 0, 0]])}"
      ]
     },
     "execution_count": 35,
     "metadata": {},
     "output_type": "execute_result"
    }
   ],
   "source": [
    "x = {name: feature_dict[name] for name in get_feature_names(feature_columns)}\n",
    "x"
   ]
  },
  {
   "cell_type": "code",
   "execution_count": 37,
   "id": "87bf5658",
   "metadata": {},
   "outputs": [
    {
     "data": {
      "text/plain": [
       "array([1, 0, 1])"
      ]
     },
     "execution_count": 37,
     "metadata": {},
     "output_type": "execute_result"
    }
   ],
   "source": [
    "y = np.array([1, 0, 1])\n",
    "y"
   ]
  },
  {
   "cell_type": "code",
   "execution_count": 38,
   "id": "3b394692",
   "metadata": {},
   "outputs": [
    {
     "data": {
      "text/plain": [
       "['item_id', 'cate_id']"
      ]
     },
     "execution_count": 38,
     "metadata": {},
     "output_type": "execute_result"
    }
   ],
   "source": [
    "behavior_feature_list"
   ]
  },
  {
   "cell_type": "code",
   "execution_count": 39,
   "id": "6af2e242",
   "metadata": {},
   "outputs": [
    {
     "data": {
      "text/plain": [
       "({'user': array([0, 1, 2]),\n",
       "  'gender': array([0, 1, 0]),\n",
       "  'item_id': array([1, 2, 3]),\n",
       "  'cate_id': array([1, 2, 2]),\n",
       "  'pay_score': array([0.1, 0.2, 0.3]),\n",
       "  'hist_item_id': array([[1, 2, 3, 0],\n",
       "         [3, 2, 1, 0],\n",
       "         [1, 2, 0, 0]]),\n",
       "  'seq_length': array([3, 3, 2]),\n",
       "  'hist_cate_id': array([[1, 2, 2, 0],\n",
       "         [2, 2, 1, 0],\n",
       "         [1, 2, 0, 0]])},\n",
       " array([1, 0, 1]),\n",
       " [SparseFeat(name='user', vocabulary_size=3, embedding_dim=10, use_hash=False, vocabulary_path=None, dtype='int32', embeddings_initializer=<tensorflow.python.keras.initializers.initializers_v1.RandomNormal object at 0x00000148FCAD40A0>, embedding_name='user', group_name='default_group', trainable=True),\n",
       "  SparseFeat(name='gender', vocabulary_size=2, embedding_dim=4, use_hash=False, vocabulary_path=None, dtype='int32', embeddings_initializer=<tensorflow.python.keras.initializers.initializers_v1.RandomNormal object at 0x00000148FCAD40D0>, embedding_name='gender', group_name='default_group', trainable=True),\n",
       "  SparseFeat(name='item_id', vocabulary_size=4, embedding_dim=8, use_hash=False, vocabulary_path=None, dtype='int32', embeddings_initializer=<tensorflow.python.keras.initializers.initializers_v1.RandomNormal object at 0x00000148FCAD4130>, embedding_name='item_id', group_name='default_group', trainable=True),\n",
       "  SparseFeat(name='cate_id', vocabulary_size=3, embedding_dim=4, use_hash=False, vocabulary_path=None, dtype='int32', embeddings_initializer=<tensorflow.python.keras.initializers.initializers_v1.RandomNormal object at 0x00000148CB3D23D0>, embedding_name='cate_id', group_name='default_group', trainable=True),\n",
       "  DenseFeat(name='pay_score', dimension=1, dtype='float32', transform_fn=None),\n",
       "  VarLenSparseFeat(sparsefeat=SparseFeat(name='hist_item_id', vocabulary_size=4, embedding_dim=8, use_hash=False, vocabulary_path=None, dtype='int32', embeddings_initializer=<tensorflow.python.keras.initializers.initializers_v1.RandomNormal object at 0x00000148FCAD4430>, embedding_name='item_id', group_name='default_group', trainable=True), maxlen=4, combiner='mean', length_name='seq_length', weight_name=None, weight_norm=True),\n",
       "  VarLenSparseFeat(sparsefeat=SparseFeat(name='hist_cate_id', vocabulary_size=3, embedding_dim=4, use_hash=False, vocabulary_path=None, dtype='int32', embeddings_initializer=<tensorflow.python.keras.initializers.initializers_v1.RandomNormal object at 0x00000148FCAF6040>, embedding_name='cate_id', group_name='default_group', trainable=True), maxlen=4, combiner='mean', length_name='seq_length', weight_name=None, weight_norm=True)],\n",
       " ['item_id', 'cate_id'])"
      ]
     },
     "execution_count": 39,
     "metadata": {},
     "output_type": "execute_result"
    }
   ],
   "source": [
    "x, y, feature_columns, behavior_feature_list"
   ]
  },
  {
   "cell_type": "code",
   "execution_count": 40,
   "id": "fc110f6c",
   "metadata": {},
   "outputs": [],
   "source": [
    "model = DIN(feature_columns, behavior_feature_list)"
   ]
  },
  {
   "cell_type": "code",
   "execution_count": 41,
   "id": "c8c69ba3",
   "metadata": {},
   "outputs": [
    {
     "name": "stdout",
     "output_type": "stream",
     "text": [
      "Model: \"model\"\n",
      "__________________________________________________________________________________________________\n",
      "Layer (type)                    Output Shape         Param #     Connected to                     \n",
      "==================================================================================================\n",
      "item_id (InputLayer)            [(None, 1)]          0                                            \n",
      "__________________________________________________________________________________________________\n",
      "cate_id (InputLayer)            [(None, 1)]          0                                            \n",
      "__________________________________________________________________________________________________\n",
      "hist_item_id (InputLayer)       [(None, 4)]          0                                            \n",
      "__________________________________________________________________________________________________\n",
      "hist_cate_id (InputLayer)       [(None, 4)]          0                                            \n",
      "__________________________________________________________________________________________________\n",
      "user (InputLayer)               [(None, 1)]          0                                            \n",
      "__________________________________________________________________________________________________\n",
      "gender (InputLayer)             [(None, 1)]          0                                            \n",
      "__________________________________________________________________________________________________\n",
      "sparse_seq_emb_hist_item_id (Em multiple             32          item_id[0][0]                    \n",
      "                                                                 hist_item_id[0][0]               \n",
      "                                                                 item_id[0][0]                    \n",
      "__________________________________________________________________________________________________\n",
      "sparse_seq_emb_hist_cate_id (Em multiple             12          cate_id[0][0]                    \n",
      "                                                                 hist_cate_id[0][0]               \n",
      "                                                                 cate_id[0][0]                    \n",
      "__________________________________________________________________________________________________\n",
      "sparse_emb_user (Embedding)     (None, 1, 10)        30          user[0][0]                       \n",
      "__________________________________________________________________________________________________\n",
      "sparse_emb_gender (Embedding)   (None, 1, 4)         8           gender[0][0]                     \n",
      "__________________________________________________________________________________________________\n",
      "concat_2 (Concat)               (None, 1, 12)        0           sparse_seq_emb_hist_item_id[0][0]\n",
      "                                                                 sparse_seq_emb_hist_cate_id[0][0]\n",
      "__________________________________________________________________________________________________\n",
      "concat (Concat)                 (None, 4, 12)        0           sparse_seq_emb_hist_item_id[1][0]\n",
      "                                                                 sparse_seq_emb_hist_cate_id[1][0]\n",
      "__________________________________________________________________________________________________\n",
      "concat_1 (Concat)               (None, 1, 26)        0           sparse_emb_user[0][0]            \n",
      "                                                                 sparse_emb_gender[0][0]          \n",
      "                                                                 sparse_seq_emb_hist_item_id[2][0]\n",
      "                                                                 sparse_seq_emb_hist_cate_id[2][0]\n",
      "__________________________________________________________________________________________________\n",
      "attention_sequence_pooling_laye (None, 1, 12)        7561        concat_2[0][0]                   \n",
      "                                                                 concat[0][0]                     \n",
      "__________________________________________________________________________________________________\n",
      "concat_3 (Concat)               (None, 1, 38)        0           concat_1[0][0]                   \n",
      "                                                                 attention_sequence_pooling_layer[\n",
      "__________________________________________________________________________________________________\n",
      "flatten (Flatten)               (None, 38)           0           concat_3[0][0]                   \n",
      "__________________________________________________________________________________________________\n",
      "pay_score (InputLayer)          [(None, 1)]          0                                            \n",
      "__________________________________________________________________________________________________\n",
      "no_mask (NoMask)                (None, 38)           0           flatten[0][0]                    \n",
      "__________________________________________________________________________________________________\n",
      "no_mask_1 (NoMask)              (None, 1)            0           pay_score[0][0]                  \n",
      "__________________________________________________________________________________________________\n",
      "flatten_1 (Flatten)             (None, 38)           0           no_mask[0][0]                    \n",
      "__________________________________________________________________________________________________\n",
      "flatten_2 (Flatten)             (None, 1)            0           no_mask_1[0][0]                  \n",
      "__________________________________________________________________________________________________\n",
      "concat_4 (Concat)               (None, 39)           0           flatten_1[0][0]                  \n",
      "                                                                 flatten_2[0][0]                  \n",
      "__________________________________________________________________________________________________\n",
      "dnn (DNN)                       (None, 64)           51392       concat_4[0][0]                   \n",
      "__________________________________________________________________________________________________\n",
      "dense (Dense)                   (None, 1)            64          dnn[0][0]                        \n",
      "__________________________________________________________________________________________________\n",
      "seq_length (InputLayer)         [(None, 1)]          0                                            \n",
      "__________________________________________________________________________________________________\n",
      "prediction_layer (PredictionLay (None, 1)            1           dense[0][0]                      \n",
      "==================================================================================================\n",
      "Total params: 59,100\n",
      "Trainable params: 58,860\n",
      "Non-trainable params: 240\n",
      "__________________________________________________________________________________________________\n"
     ]
    }
   ],
   "source": [
    "model.summary()"
   ]
  },
  {
   "cell_type": "code",
   "execution_count": 42,
   "id": "a1df9202",
   "metadata": {},
   "outputs": [],
   "source": [
    "model.compile('adam', 'binary_crossentropy',\n",
    "                  metrics=['binary_crossentropy'])"
   ]
  },
  {
   "cell_type": "code",
   "execution_count": 43,
   "id": "5085dd8b",
   "metadata": {},
   "outputs": [
    {
     "name": "stdout",
     "output_type": "stream",
     "text": [
      "Epoch 1/10\n",
      "1/1 [==============================] - 2s 2s/step - loss: 0.6997 - binary_crossentropy: 0.6997 - val_loss: 0.6946 - val_binary_crossentropy: 0.6946\n",
      "Epoch 2/10\n",
      "1/1 [==============================] - 0s 28ms/step - loss: 0.6900 - binary_crossentropy: 0.6900 - val_loss: 0.6931 - val_binary_crossentropy: 0.6931\n",
      "Epoch 3/10\n",
      "1/1 [==============================] - 0s 30ms/step - loss: 0.6837 - binary_crossentropy: 0.6837 - val_loss: 0.6919 - val_binary_crossentropy: 0.6919\n",
      "Epoch 4/10\n",
      "1/1 [==============================] - 0s 30ms/step - loss: 0.6781 - binary_crossentropy: 0.6781 - val_loss: 0.6909 - val_binary_crossentropy: 0.6909\n",
      "Epoch 5/10\n",
      "1/1 [==============================] - 0s 31ms/step - loss: 0.6726 - binary_crossentropy: 0.6726 - val_loss: 0.6901 - val_binary_crossentropy: 0.6901\n",
      "Epoch 6/10\n",
      "1/1 [==============================] - 0s 30ms/step - loss: 0.6663 - binary_crossentropy: 0.6663 - val_loss: 0.6896 - val_binary_crossentropy: 0.6896\n",
      "Epoch 7/10\n",
      "1/1 [==============================] - 0s 30ms/step - loss: 0.6597 - binary_crossentropy: 0.6597 - val_loss: 0.6892 - val_binary_crossentropy: 0.6892\n",
      "Epoch 8/10\n",
      "1/1 [==============================] - 0s 32ms/step - loss: 0.6525 - binary_crossentropy: 0.6525 - val_loss: 0.6889 - val_binary_crossentropy: 0.6889\n",
      "Epoch 9/10\n",
      "1/1 [==============================] - 0s 30ms/step - loss: 0.6447 - binary_crossentropy: 0.6447 - val_loss: 0.6887 - val_binary_crossentropy: 0.6887\n",
      "Epoch 10/10\n",
      "1/1 [==============================] - 0s 34ms/step - loss: 0.6362 - binary_crossentropy: 0.6362 - val_loss: 0.6888 - val_binary_crossentropy: 0.6888\n"
     ]
    }
   ],
   "source": [
    "history = model.fit(x, y, verbose=1, epochs=10, validation_split=0.5)"
   ]
  },
  {
   "cell_type": "code",
   "execution_count": null,
   "id": "30af6839",
   "metadata": {},
   "outputs": [],
   "source": []
  },
  {
   "cell_type": "code",
   "execution_count": null,
   "id": "376bf481",
   "metadata": {},
   "outputs": [],
   "source": []
  },
  {
   "cell_type": "code",
   "execution_count": null,
   "id": "101d8fd8",
   "metadata": {},
   "outputs": [],
   "source": []
  },
  {
   "cell_type": "code",
   "execution_count": null,
   "id": "08a16e7a",
   "metadata": {},
   "outputs": [],
   "source": []
  },
  {
   "cell_type": "code",
   "execution_count": null,
   "id": "578eb315",
   "metadata": {},
   "outputs": [],
   "source": []
  },
  {
   "cell_type": "code",
   "execution_count": null,
   "id": "af66b8e3",
   "metadata": {},
   "outputs": [],
   "source": []
  },
  {
   "cell_type": "code",
   "execution_count": null,
   "id": "d85cd3ef",
   "metadata": {},
   "outputs": [],
   "source": []
  },
  {
   "cell_type": "code",
   "execution_count": null,
   "id": "4ea4efdc",
   "metadata": {},
   "outputs": [],
   "source": []
  },
  {
   "cell_type": "code",
   "execution_count": null,
   "id": "908b1340",
   "metadata": {},
   "outputs": [],
   "source": []
  },
  {
   "cell_type": "code",
   "execution_count": null,
   "id": "0554df08",
   "metadata": {},
   "outputs": [],
   "source": []
  },
  {
   "cell_type": "code",
   "execution_count": null,
   "id": "610d2ceb",
   "metadata": {},
   "outputs": [],
   "source": []
  }
 ],
 "metadata": {
  "kernelspec": {
   "display_name": "Python 3 (ipykernel)",
   "language": "python",
   "name": "python3"
  },
  "language_info": {
   "codemirror_mode": {
    "name": "ipython",
    "version": 3
   },
   "file_extension": ".py",
   "mimetype": "text/x-python",
   "name": "python",
   "nbconvert_exporter": "python",
   "pygments_lexer": "ipython3",
   "version": "3.8.0"
  },
  "toc": {
   "base_numbering": 1,
   "nav_menu": {},
   "number_sections": true,
   "sideBar": true,
   "skip_h1_title": false,
   "title_cell": "Table of Contents",
   "title_sidebar": "Contents",
   "toc_cell": false,
   "toc_position": {},
   "toc_section_display": true,
   "toc_window_display": false
  }
 },
 "nbformat": 4,
 "nbformat_minor": 5
}
